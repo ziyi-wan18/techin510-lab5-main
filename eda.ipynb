{
 "cells": [
  {
   "cell_type": "code",
   "execution_count": 17,
   "metadata": {},
   "outputs": [],
   "source": [
    "import pandas as pd"
   ]
  },
  {
   "cell_type": "code",
   "execution_count": 18,
   "metadata": {},
   "outputs": [],
   "source": [
    "df = pd.read_json('./data.json')"
   ]
  },
  {
   "cell_type": "code",
   "execution_count": 19,
   "metadata": {},
   "outputs": [
    {
     "data": {
      "text/html": [
       "<div>\n",
       "<style scoped>\n",
       "    .dataframe tbody tr th:only-of-type {\n",
       "        vertical-align: middle;\n",
       "    }\n",
       "\n",
       "    .dataframe tbody tr th {\n",
       "        vertical-align: top;\n",
       "    }\n",
       "\n",
       "    .dataframe thead th {\n",
       "        text-align: right;\n",
       "    }\n",
       "</style>\n",
       "<table border=\"1\" class=\"dataframe\">\n",
       "  <thead>\n",
       "    <tr style=\"text-align: right;\">\n",
       "      <th></th>\n",
       "      <th>title</th>\n",
       "      <th>date</th>\n",
       "      <th>venue</th>\n",
       "      <th>category</th>\n",
       "      <th>location</th>\n",
       "    </tr>\n",
       "  </thead>\n",
       "  <tbody>\n",
       "    <tr>\n",
       "      <th>0</th>\n",
       "      <td>Criminal</td>\n",
       "      <td>2024-02-05T00:00:00-08:00</td>\n",
       "      <td>The Moore Theatre</td>\n",
       "      <td>Theatre</td>\n",
       "      <td>Downtown</td>\n",
       "    </tr>\n",
       "    <tr>\n",
       "      <th>1</th>\n",
       "      <td>Neck Deep</td>\n",
       "      <td>2024-02-05T00:00:00-08:00</td>\n",
       "      <td>Showbox SoDo</td>\n",
       "      <td>Music</td>\n",
       "      <td>Pioneer Square</td>\n",
       "    </tr>\n",
       "    <tr>\n",
       "      <th>2</th>\n",
       "      <td>Joey Valence and Brae</td>\n",
       "      <td>2024-02-06T00:00:00-08:00</td>\n",
       "      <td>Barboza</td>\n",
       "      <td>Music</td>\n",
       "      <td>Capitol Hill / Central District</td>\n",
       "    </tr>\n",
       "    <tr>\n",
       "      <th>3</th>\n",
       "      <td>Kazu Kibuishi with Donna Barba Higuera</td>\n",
       "      <td>2024-02-06T00:00:00-08:00</td>\n",
       "      <td>Town Hall Seattle</td>\n",
       "      <td>Readings &amp; Lectures</td>\n",
       "      <td>Downtown</td>\n",
       "    </tr>\n",
       "    <tr>\n",
       "      <th>4</th>\n",
       "      <td>Kristin Hannah</td>\n",
       "      <td>2024-02-06T00:00:00-08:00</td>\n",
       "      <td>Benaroya Hall</td>\n",
       "      <td>Readings &amp; Lectures</td>\n",
       "      <td>Downtown</td>\n",
       "    </tr>\n",
       "  </tbody>\n",
       "</table>\n",
       "</div>"
      ],
      "text/plain": [
       "                                    title                       date  \\\n",
       "0                                Criminal  2024-02-05T00:00:00-08:00   \n",
       "1                               Neck Deep  2024-02-05T00:00:00-08:00   \n",
       "2                   Joey Valence and Brae  2024-02-06T00:00:00-08:00   \n",
       "3  Kazu Kibuishi with Donna Barba Higuera  2024-02-06T00:00:00-08:00   \n",
       "4                          Kristin Hannah  2024-02-06T00:00:00-08:00   \n",
       "\n",
       "               venue             category                         location  \n",
       "0  The Moore Theatre              Theatre                         Downtown  \n",
       "1       Showbox SoDo                Music                   Pioneer Square  \n",
       "2            Barboza                Music  Capitol Hill / Central District  \n",
       "3  Town Hall Seattle  Readings & Lectures                         Downtown  \n",
       "4      Benaroya Hall  Readings & Lectures                         Downtown  "
      ]
     },
     "execution_count": 19,
     "metadata": {},
     "output_type": "execute_result"
    }
   ],
   "source": [
    "df.head()"
   ]
  },
  {
   "cell_type": "code",
   "execution_count": 22,
   "metadata": {},
   "outputs": [
    {
     "data": {
      "text/html": [
       "<div>\n",
       "<style scoped>\n",
       "    .dataframe tbody tr th:only-of-type {\n",
       "        vertical-align: middle;\n",
       "    }\n",
       "\n",
       "    .dataframe tbody tr th {\n",
       "        vertical-align: top;\n",
       "    }\n",
       "\n",
       "    .dataframe thead th {\n",
       "        text-align: right;\n",
       "    }\n",
       "</style>\n",
       "<table border=\"1\" class=\"dataframe\">\n",
       "  <thead>\n",
       "    <tr style=\"text-align: right;\">\n",
       "      <th></th>\n",
       "      <th>title</th>\n",
       "      <th>date</th>\n",
       "      <th>venue</th>\n",
       "      <th>category</th>\n",
       "      <th>location</th>\n",
       "    </tr>\n",
       "  </thead>\n",
       "  <tbody>\n",
       "    <tr>\n",
       "      <th>12</th>\n",
       "      <td>An Evening with Tina Campt: Black Feminist Vis...</td>\n",
       "      <td>2024-02-08T00:00:00-08:00</td>\n",
       "      <td>Town Hall Seattle</td>\n",
       "      <td>Readings &amp; Lectures</td>\n",
       "      <td>Downtown</td>\n",
       "    </tr>\n",
       "    <tr>\n",
       "      <th>47</th>\n",
       "      <td>An Evening with Lucia Micarelli</td>\n",
       "      <td>2024-02-13T00:00:00-08:00</td>\n",
       "      <td>Dimitriou's Jazz Alley</td>\n",
       "      <td>Music</td>\n",
       "      <td>Downtown</td>\n",
       "    </tr>\n",
       "    <tr>\n",
       "      <th>51</th>\n",
       "      <td>An Evening with Lucia Micarelli :A Valentine’s...</td>\n",
       "      <td>2024-02-14T00:00:00-08:00</td>\n",
       "      <td>Dimitriou's Jazz Alley</td>\n",
       "      <td>Music</td>\n",
       "      <td>Downtown</td>\n",
       "    </tr>\n",
       "    <tr>\n",
       "      <th>241</th>\n",
       "      <td>An Evening with Jinjoo Cho</td>\n",
       "      <td>2024-04-19T00:00:00-07:00</td>\n",
       "      <td>415 Westlake</td>\n",
       "      <td>Music</td>\n",
       "      <td>Queen Anne / Seattle Center</td>\n",
       "    </tr>\n",
       "  </tbody>\n",
       "</table>\n",
       "</div>"
      ],
      "text/plain": [
       "                                                 title  \\\n",
       "12   An Evening with Tina Campt: Black Feminist Vis...   \n",
       "47                     An Evening with Lucia Micarelli   \n",
       "51   An Evening with Lucia Micarelli :A Valentine’s...   \n",
       "241                         An Evening with Jinjoo Cho   \n",
       "\n",
       "                          date                   venue             category  \\\n",
       "12   2024-02-08T00:00:00-08:00       Town Hall Seattle  Readings & Lectures   \n",
       "47   2024-02-13T00:00:00-08:00  Dimitriou's Jazz Alley                Music   \n",
       "51   2024-02-14T00:00:00-08:00  Dimitriou's Jazz Alley                Music   \n",
       "241  2024-04-19T00:00:00-07:00            415 Westlake                Music   \n",
       "\n",
       "                        location  \n",
       "12                      Downtown  \n",
       "47                      Downtown  \n",
       "51                      Downtown  \n",
       "241  Queen Anne / Seattle Center  "
      ]
     },
     "execution_count": 22,
     "metadata": {},
     "output_type": "execute_result"
    }
   ],
   "source": [
    "df[df.title.str.startswith('An Evening')]"
   ]
  },
  {
   "cell_type": "code",
   "execution_count": 13,
   "metadata": {},
   "outputs": [],
   "source": [
    "import html"
   ]
  },
  {
   "cell_type": "code",
   "execution_count": 14,
   "metadata": {},
   "outputs": [
    {
     "data": {
      "text/plain": [
       "0                  Theatre\n",
       "1                    Music\n",
       "2                    Music\n",
       "3      Readings & Lectures\n",
       "4      Readings & Lectures\n",
       "              ...         \n",
       "326                Theatre\n",
       "327                Museums\n",
       "328                Museums\n",
       "329                Museums\n",
       "330                Museums\n",
       "Name: category, Length: 331, dtype: object"
      ]
     },
     "execution_count": 14,
     "metadata": {},
     "output_type": "execute_result"
    }
   ],
   "source": [
    "df['category'].apply(lambda x: html.unescape(x))"
   ]
  },
  {
   "cell_type": "code",
   "execution_count": 15,
   "metadata": {},
   "outputs": [
    {
     "data": {
      "text/plain": [
       "category\n",
       "Music                         154\n",
       "Sports                         58\n",
       "Theatre                        39\n",
       "Museums                        36\n",
       "Readings & Lectures            23\n",
       "Festivals & Special Events     11\n",
       "Dance                           7\n",
       "Visual Arts & Galleries         2\n",
       "Film & Media Arts               1\n",
       "Name: count, dtype: int64"
      ]
     },
     "execution_count": 15,
     "metadata": {},
     "output_type": "execute_result"
    }
   ],
   "source": [
    "df.value_counts('category')"
   ]
  },
  {
   "cell_type": "code",
   "execution_count": 16,
   "metadata": {},
   "outputs": [
    {
     "data": {
      "text/plain": [
       "location\n",
       "Downtown                           132\n",
       "Queen Anne / Seattle Center         74\n",
       "Pioneer Square                      34\n",
       "Fremont / Ballard                   24\n",
       "Capitol Hill / Central District     16\n",
       "University District                 15\n",
       "South                               10\n",
       "South Seattle                        6\n",
       "Wallingford / Greenlake              6\n",
       "West                                 5\n",
       "Bellevue / Eastside                  4\n",
       "International District               4\n",
       "West Seattle                         1\n",
       "Name: count, dtype: int64"
      ]
     },
     "execution_count": 16,
     "metadata": {},
     "output_type": "execute_result"
    }
   ],
   "source": [
    "df.value_counts('location')"
   ]
  }
 ],
 "metadata": {
  "kernelspec": {
   "display_name": "Python 3",
   "language": "python",
   "name": "python3"
  },
  "language_info": {
   "codemirror_mode": {
    "name": "ipython",
    "version": 3
   },
   "file_extension": ".py",
   "mimetype": "text/x-python",
   "name": "python",
   "nbconvert_exporter": "python",
   "pygments_lexer": "ipython3",
   "version": "3.11.7"
  }
 },
 "nbformat": 4,
 "nbformat_minor": 2
}
